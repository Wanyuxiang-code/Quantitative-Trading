{
 "cells": [
  {
   "cell_type": "markdown",
   "metadata": {},
   "source": [
    "_Backtesting.py_ Quick Start User Guide\n",
    "=======================\n",
    "\n",
    "This tutorial shows some of the features of *backtesting.py*, a Python framework for [backtesting](https://www.investopedia.com/terms/b/backtesting.asp) trading strategies.\n",
    "\n",
    "_Backtesting.py_ is a small and lightweight, blazing fast backtesting framework that uses state-of-the-art Python structures and procedures (Python 3.6+, Pandas, NumPy, Bokeh). It has a very small and simple API that is easy to remember and quickly shape towards meaningful results. The library _doesn't_ really support stock picking or trading strategies that rely on arbitrage or multi-asset portfolio rebalancing; instead, it works with an individual tradeable asset at a time and is best suited for optimizing position entrance and exit signal strategies, decisions upon values of technical indicators, and it's also a versatile interactive trade visualization and statistics tool.\n",
    "\n",
    "\n",
    "## Data\n",
    "\n",
    "_You bring your own data._ Backtesting ingests _all kinds of \n",
    "[OHLC](https://en.wikipedia.org/wiki/Open-high-low-close_chart)\n",
    "data_ (stocks, forex, futures, crypto, ...) as a\n",
    "[pandas.DataFrame](https://pandas.pydata.org/pandas-docs/stable/10min.html)\n",
    "with columns `'Open'`, `'High'`, `'Low'`, `'Close'` and (optionally) `'Volume'`.\n",
    "Such data is widely obtainable, e.g. with packages:\n",
    "* [pandas-datareader](https://pandas-datareader.readthedocs.io/en/latest/),\n",
    "* [Quandl](https://www.quandl.com/tools/python),\n",
    "* [findatapy](https://github.com/cuemacro/findatapy),\n",
    "* [yFinance](https://github.com/ranaroussi/yfinance),\n",
    "* [investpy](https://investpy.readthedocs.io/),\n",
    "  etc.\n",
    "\n",
    "Besides these columns, **your data frames can have additional columns which are accessible in your strategies in a similar manner**.\n",
    "\n",
    "DataFrame should ideally be indexed with a _datetime index_ (convert it with [`pd.to_datetime()`](https://pandas.pydata.org/pandas-docs/stable/generated/pandas.to_datetime.html));\n",
    "otherwise a simple range index will do."
   ]
  },
  {
   "cell_type": "code",
   "execution_count": 1,
   "metadata": {},
   "outputs": [
    {
     "name": "stderr",
     "output_type": "stream",
     "text": [
      "/Users/tiny/Apps/anaconda3/envs/backtesting/lib/python3.8/site-packages/backtesting/test/__init__.py:8: FutureWarning: The argument 'infer_datetime_format' is deprecated and will be removed in a future version. A strict version of it is now the default, see https://pandas.pydata.org/pdeps/0004-consistent-to-datetime-parsing.html. You can safely remove this argument.\n",
      "  return pd.read_csv(join(dirname(__file__), filename),\n",
      "/Users/tiny/Apps/anaconda3/envs/backtesting/lib/python3.8/site-packages/backtesting/test/__init__.py:8: FutureWarning: The argument 'infer_datetime_format' is deprecated and will be removed in a future version. A strict version of it is now the default, see https://pandas.pydata.org/pdeps/0004-consistent-to-datetime-parsing.html. You can safely remove this argument.\n",
      "  return pd.read_csv(join(dirname(__file__), filename),\n"
     ]
    },
    {
     "data": {
      "text/html": [
       "<div>\n",
       "<style scoped>\n",
       "    .dataframe tbody tr th:only-of-type {\n",
       "        vertical-align: middle;\n",
       "    }\n",
       "\n",
       "    .dataframe tbody tr th {\n",
       "        vertical-align: top;\n",
       "    }\n",
       "\n",
       "    .dataframe thead th {\n",
       "        text-align: right;\n",
       "    }\n",
       "</style>\n",
       "<table border=\"1\" class=\"dataframe\">\n",
       "  <thead>\n",
       "    <tr style=\"text-align: right;\">\n",
       "      <th></th>\n",
       "      <th>Open</th>\n",
       "      <th>High</th>\n",
       "      <th>Low</th>\n",
       "      <th>Close</th>\n",
       "      <th>Volume</th>\n",
       "    </tr>\n",
       "  </thead>\n",
       "  <tbody>\n",
       "    <tr>\n",
       "      <th>2013-02-25</th>\n",
       "      <td>802.3</td>\n",
       "      <td>808.41</td>\n",
       "      <td>790.49</td>\n",
       "      <td>790.77</td>\n",
       "      <td>2303900</td>\n",
       "    </tr>\n",
       "    <tr>\n",
       "      <th>2013-02-26</th>\n",
       "      <td>795.0</td>\n",
       "      <td>795.95</td>\n",
       "      <td>784.40</td>\n",
       "      <td>790.13</td>\n",
       "      <td>2202500</td>\n",
       "    </tr>\n",
       "    <tr>\n",
       "      <th>2013-02-27</th>\n",
       "      <td>794.8</td>\n",
       "      <td>804.75</td>\n",
       "      <td>791.11</td>\n",
       "      <td>799.78</td>\n",
       "      <td>2026100</td>\n",
       "    </tr>\n",
       "    <tr>\n",
       "      <th>2013-02-28</th>\n",
       "      <td>801.1</td>\n",
       "      <td>806.99</td>\n",
       "      <td>801.03</td>\n",
       "      <td>801.20</td>\n",
       "      <td>2265800</td>\n",
       "    </tr>\n",
       "    <tr>\n",
       "      <th>2013-03-01</th>\n",
       "      <td>797.8</td>\n",
       "      <td>807.14</td>\n",
       "      <td>796.15</td>\n",
       "      <td>806.19</td>\n",
       "      <td>2175400</td>\n",
       "    </tr>\n",
       "  </tbody>\n",
       "</table>\n",
       "</div>"
      ],
      "text/plain": [
       "             Open    High     Low   Close   Volume\n",
       "2013-02-25  802.3  808.41  790.49  790.77  2303900\n",
       "2013-02-26  795.0  795.95  784.40  790.13  2202500\n",
       "2013-02-27  794.8  804.75  791.11  799.78  2026100\n",
       "2013-02-28  801.1  806.99  801.03  801.20  2265800\n",
       "2013-03-01  797.8  807.14  796.15  806.19  2175400"
      ]
     },
     "execution_count": 1,
     "metadata": {},
     "output_type": "execute_result"
    }
   ],
   "source": [
    "# Example OHLC daily data for Google Inc.\n",
    "from backtesting.test import GOOG\n",
    "\n",
    "GOOG.tail()"
   ]
  },
  {
   "cell_type": "markdown",
   "metadata": {},
   "source": [
    "## Strategy\n",
    "\n",
    "Let's create our first strategy to backtest on these Google data, a simple [moving average (MA) cross-over strategy](https://en.wikipedia.org/wiki/Moving_average_crossover).\n",
    "\n",
    "_Backtesting.py_ doesn't ship its own set of _technical analysis indicators_. Users favoring TA should probably refer to functions from proven indicator libraries, such as\n",
    "[TA-Lib](https://github.com/mrjbq7/ta-lib) or\n",
    "[Tulipy](https://tulipindicators.org),\n",
    "but for this example, we can define a simple helper moving average function ourselves:"
   ]
  },
  {
   "cell_type": "code",
   "execution_count": 2,
   "metadata": {},
   "outputs": [],
   "source": [
    "import pandas as pd\n",
    "\n",
    "\n",
    "def SMA(values, n):\n",
    "    \"\"\"\n",
    "    Return simple moving average of `values`, at\n",
    "    each step taking into account `n` previous values.\n",
    "    \"\"\"\n",
    "    return pd.Series(values).rolling(n).mean()"
   ]
  },
  {
   "cell_type": "markdown",
   "metadata": {},
   "source": [
    "A new strategy needs to extend \n",
    "[`Strategy`](https://kernc.github.io/backtesting.py/doc/backtesting/backtesting.html#backtesting.backtesting.Strategy)\n",
    "class and override its two abstract methods:\n",
    "[`init()`](https://kernc.github.io/backtesting.py/doc/backtesting/backtesting.html#backtesting.backtesting.Strategy.init) and\n",
    "[`next()`](https://kernc.github.io/backtesting.py/doc/backtesting/backtesting.html#backtesting.backtesting.Strategy.next).\n",
    "\n",
    "Method `init()` is invoked before the strategy is run. Within it, one ideally precomputes in efficient, vectorized manner whatever indicators and signals the strategy depends on.\n",
    "\n",
    "Method `next()` is then iteratively called by the\n",
    "[`Backtest`](https://kernc.github.io/backtesting.py/doc/backtesting/backtesting.html#backtesting.backtesting.Backtest)\n",
    "instance, once for each data point (data frame row), simulating the incremental availability of each new full candlestick bar.\n",
    "\n",
    "Note, _backtesting.py_ cannot make decisions / trades _within_ candlesticks — any new orders are executed on the next candle's _open_ (or the current candle's _close_ if\n",
    "[`trade_on_close=True`](https://kernc.github.io/backtesting.py/doc/backtesting/backtesting.html#backtesting.backtesting.Backtest.__init__)).\n",
    "If you find yourself wishing to trade within candlesticks (e.g. daytrading), you instead need to begin with more fine-grained (e.g. hourly) data."
   ]
  },
  {
   "cell_type": "code",
   "execution_count": 3,
   "metadata": {},
   "outputs": [],
   "source": [
    "from backtesting import Strategy\n",
    "from backtesting.lib import crossover\n",
    "\n",
    "\n",
    "class SmaCross(Strategy):\n",
    "    # Define the two MA lags as *class variables*\n",
    "    # for later optimization\n",
    "    n1 = 10\n",
    "    n2 = 20\n",
    "    \n",
    "    def init(self):\n",
    "        # Precompute the two moving averages\n",
    "        self.sma1 = self.I(SMA, self.data.Close, self.n1)\n",
    "        self.sma2 = self.I(SMA, self.data.Close, self.n2)\n",
    "    \n",
    "    def next(self):\n",
    "        # If sma1 crosses above sma2, close any existing\n",
    "        # short trades, and buy the asset\n",
    "        if crossover(self.sma1, self.sma2):\n",
    "            self.position.close()\n",
    "            self.buy()\n",
    "\n",
    "        # Else, if sma1 crosses below sma2, close any existing\n",
    "        # long trades, and sell the asset\n",
    "        elif crossover(self.sma2, self.sma1):\n",
    "            self.position.close()\n",
    "            self.sell()"
   ]
  },
  {
   "cell_type": "markdown",
   "metadata": {},
   "source": [
    "In `init()` as well as in `next()`, the data the strategy is simulated on is available as an instance variable\n",
    "[`self.data`](https://kernc.github.io/backtesting.py/doc/backtesting/backtesting.html#backtesting.backtesting.Strategy.data).\n",
    "\n",
    "In `init()`, we declare and **compute indicators indirectly by wrapping them in \n",
    "[`self.I()`](https://kernc.github.io/backtesting.py/doc/backtesting/backtesting.html#backtesting.backtesting.Strategy.I)**.\n",
    "The wrapper is passed a function (our `SMA` function) along with any arguments to call it with (our _close_ values and the MA lag). Indicators wrapped in this way will be automatically plotted, and their legend strings will be intelligently inferred.\n",
    "\n",
    "In `next()`, we simply check if the faster moving average just crossed over the slower one. If it did and upwards, we close the possible short position and go long; if it did and downwards, we close the open long position and go short. Note, we don't adjust order size, so _Backtesting.py_ assumes _maximal possible position_. We use\n",
    "[`backtesting.lib.crossover()`](https://kernc.github.io/backtesting.py/doc/backtesting/lib.html#backtesting.lib.crossover)\n",
    "function instead of writing more obscure and confusing conditions, such as:"
   ]
  },
  {
   "cell_type": "code",
   "execution_count": 4,
   "metadata": {},
   "outputs": [
    {
     "name": "stdout",
     "output_type": "stream",
     "text": [
      "\n"
     ]
    }
   ],
   "source": [
    "%%script echo\n",
    "\n",
    "    def next(self):\n",
    "        if (self.sma1[-2] < self.sma2[-2] and\n",
    "                self.sma1[-1] > self.sma2[-1]):\n",
    "            self.position.close()\n",
    "            self.buy()\n",
    "\n",
    "        elif (self.sma1[-2] > self.sma2[-2] and    # Ugh!\n",
    "              self.sma1[-1] < self.sma2[-1]):\n",
    "            self.position.close()\n",
    "            self.sell()"
   ]
  },
  {
   "cell_type": "markdown",
   "metadata": {},
   "source": [
    "In `init()`, the whole series of points was available, whereas **in `next()`, the length of `self.data` and all declared indicators is adjusted** on each `next()` call so that `array[-1]` (e.g. `self.data.Close[-1]` or `self.sma1[-1]`) always contains the most recent value, `array[-2]` the previous value, etc. (ordinary Python indexing of ascending-sorted 1D arrays).\n",
    "\n",
    "**Note**: `self.data` and any indicators wrapped with `self.I` (e.g. `self.sma1`) are NumPy arrays for performance reasons. If you prefer pandas Series or DataFrame objects, use `Strategy.data.<column>.s` or `Strategy.data.df` accessors respectively. You could also construct the series manually, e.g. `pd.Series(self.data.Close, index=self.data.index)`.\n",
    "\n",
    "We might avoid `self.position.close()` calls if we primed the\n",
    "[`Backtest`](https://kernc.github.io/backtesting.py/doc/backtesting/backtesting.html#backtesting.backtesting.Backtest)\n",
    "instance with `Backtest(..., exclusive_orders=True)`."
   ]
  },
  {
   "cell_type": "markdown",
   "metadata": {},
   "source": [
    "## Backtesting\n",
    "\n",
    "Let's see how our strategy performs on historical Google data. The\n",
    "[`Backtest`](https://kernc.github.io/backtesting.py/doc/backtesting/backtesting.html#backtesting.backtesting.Backtest)\n",
    "instance is initialized with OHLC data and a strategy _class_ (see API reference for additional options), and we begin with 10,000 units of cash and set broker's commission to realistic 0.2%."
   ]
  },
  {
   "cell_type": "code",
   "execution_count": 5,
   "metadata": {},
   "outputs": [
    {
     "data": {
      "text/plain": [
       "Start                     2004-08-19 00:00:00\n",
       "End                       2013-03-01 00:00:00\n",
       "Duration                   3116 days 00:00:00\n",
       "Exposure Time [%]                   97.067039\n",
       "Equity Final [$]                  68221.96986\n",
       "Equity Peak [$]                   68991.21986\n",
       "Return [%]                         582.219699\n",
       "Buy & Hold Return [%]              703.458242\n",
       "Return (Ann.) [%]                   25.266427\n",
       "Volatility (Ann.) [%]               38.383008\n",
       "Sharpe Ratio                         0.658271\n",
       "Sortino Ratio                        1.288779\n",
       "Calmar Ratio                         0.763748\n",
       "Max. Drawdown [%]                  -33.082172\n",
       "Avg. Drawdown [%]                   -5.581506\n",
       "Max. Drawdown Duration      688 days 00:00:00\n",
       "Avg. Drawdown Duration       41 days 00:00:00\n",
       "# Trades                                   94\n",
       "Win Rate [%]                        54.255319\n",
       "Best Trade [%]                       57.11931\n",
       "Worst Trade [%]                    -16.629898\n",
       "Avg. Trade [%]                       2.074326\n",
       "Max. Trade Duration         121 days 00:00:00\n",
       "Avg. Trade Duration          33 days 00:00:00\n",
       "Profit Factor                        2.190805\n",
       "Expectancy [%]                       2.606294\n",
       "SQN                                  1.990216\n",
       "_strategy                            SmaCross\n",
       "_equity_curve                             ...\n",
       "_trades                       Size  EntryB...\n",
       "dtype: object"
      ]
     },
     "execution_count": 5,
     "metadata": {},
     "output_type": "execute_result"
    }
   ],
   "source": [
    "from backtesting import Backtest\n",
    "\n",
    "bt = Backtest(GOOG, SmaCross, cash=10_000, commission=.002)\n",
    "stats = bt.run()\n",
    "stats"
   ]
  },
  {
   "cell_type": "markdown",
   "metadata": {},
   "source": [
    "[`Backtest.run()`](https://kernc.github.io/backtesting.py/doc/backtesting/backtesting.html#backtesting.backtesting.Backtest.run)\n",
    "method returns a pandas Series of simulation results and statistics associated with our strategy. We see that this simple strategy makes almost 600% return in the period of 9 years, with maximum drawdown 33%, and with longest drawdown period spanning almost two years ...\n",
    "\n",
    "[`Backtest.plot()`](https://kernc.github.io/backtesting.py/doc/backtesting/backtesting.html#backtesting.backtesting.Backtest.plot)\n",
    "method provides the same insights in a more visual form."
   ]
  },
  {
   "cell_type": "code",
   "execution_count": 6,
   "metadata": {},
   "outputs": [
    {
     "data": {
      "text/html": [
       "<div style=\"display: table;\"><div style=\"display: table-row;\"><div style=\"display: table-cell;\"><b title=\"bokeh.models.layouts.Row\">Row</b>(</div><div style=\"display: table-cell;\">id&nbsp;=&nbsp;'1449', <span id=\"2063\" style=\"cursor: pointer;\">&hellip;)</span></div></div><div class=\"2062\" style=\"display: none;\"><div style=\"display: table-cell;\"></div><div style=\"display: table-cell;\">align&nbsp;=&nbsp;'start',</div></div><div class=\"2062\" style=\"display: none;\"><div style=\"display: table-cell;\"></div><div style=\"display: table-cell;\">aspect_ratio&nbsp;=&nbsp;None,</div></div><div class=\"2062\" style=\"display: none;\"><div style=\"display: table-cell;\"></div><div style=\"display: table-cell;\">background&nbsp;=&nbsp;None,</div></div><div class=\"2062\" style=\"display: none;\"><div style=\"display: table-cell;\"></div><div style=\"display: table-cell;\">children&nbsp;=&nbsp;[GridBox(id='1446', ...), ToolbarBox(id='1448', ...)],</div></div><div class=\"2062\" style=\"display: none;\"><div style=\"display: table-cell;\"></div><div style=\"display: table-cell;\">cols&nbsp;=&nbsp;'auto',</div></div><div class=\"2062\" style=\"display: none;\"><div style=\"display: table-cell;\"></div><div style=\"display: table-cell;\">css_classes&nbsp;=&nbsp;[],</div></div><div class=\"2062\" style=\"display: none;\"><div style=\"display: table-cell;\"></div><div style=\"display: table-cell;\">disabled&nbsp;=&nbsp;False,</div></div><div class=\"2062\" style=\"display: none;\"><div style=\"display: table-cell;\"></div><div style=\"display: table-cell;\">height&nbsp;=&nbsp;None,</div></div><div class=\"2062\" style=\"display: none;\"><div style=\"display: table-cell;\"></div><div style=\"display: table-cell;\">height_policy&nbsp;=&nbsp;'auto',</div></div><div class=\"2062\" style=\"display: none;\"><div style=\"display: table-cell;\"></div><div style=\"display: table-cell;\">js_event_callbacks&nbsp;=&nbsp;{},</div></div><div class=\"2062\" style=\"display: none;\"><div style=\"display: table-cell;\"></div><div style=\"display: table-cell;\">js_property_callbacks&nbsp;=&nbsp;{},</div></div><div class=\"2062\" style=\"display: none;\"><div style=\"display: table-cell;\"></div><div style=\"display: table-cell;\">margin&nbsp;=&nbsp;(0, 0, 0, 0),</div></div><div class=\"2062\" style=\"display: none;\"><div style=\"display: table-cell;\"></div><div style=\"display: table-cell;\">max_height&nbsp;=&nbsp;None,</div></div><div class=\"2062\" style=\"display: none;\"><div style=\"display: table-cell;\"></div><div style=\"display: table-cell;\">max_width&nbsp;=&nbsp;None,</div></div><div class=\"2062\" style=\"display: none;\"><div style=\"display: table-cell;\"></div><div style=\"display: table-cell;\">min_height&nbsp;=&nbsp;None,</div></div><div class=\"2062\" style=\"display: none;\"><div style=\"display: table-cell;\"></div><div style=\"display: table-cell;\">min_width&nbsp;=&nbsp;None,</div></div><div class=\"2062\" style=\"display: none;\"><div style=\"display: table-cell;\"></div><div style=\"display: table-cell;\">name&nbsp;=&nbsp;None,</div></div><div class=\"2062\" style=\"display: none;\"><div style=\"display: table-cell;\"></div><div style=\"display: table-cell;\">sizing_mode&nbsp;=&nbsp;'stretch_width',</div></div><div class=\"2062\" style=\"display: none;\"><div style=\"display: table-cell;\"></div><div style=\"display: table-cell;\">spacing&nbsp;=&nbsp;0,</div></div><div class=\"2062\" style=\"display: none;\"><div style=\"display: table-cell;\"></div><div style=\"display: table-cell;\">subscribed_events&nbsp;=&nbsp;[],</div></div><div class=\"2062\" style=\"display: none;\"><div style=\"display: table-cell;\"></div><div style=\"display: table-cell;\">syncable&nbsp;=&nbsp;True,</div></div><div class=\"2062\" style=\"display: none;\"><div style=\"display: table-cell;\"></div><div style=\"display: table-cell;\">tags&nbsp;=&nbsp;[],</div></div><div class=\"2062\" style=\"display: none;\"><div style=\"display: table-cell;\"></div><div style=\"display: table-cell;\">visible&nbsp;=&nbsp;True,</div></div><div class=\"2062\" style=\"display: none;\"><div style=\"display: table-cell;\"></div><div style=\"display: table-cell;\">width&nbsp;=&nbsp;None,</div></div><div class=\"2062\" style=\"display: none;\"><div style=\"display: table-cell;\"></div><div style=\"display: table-cell;\">width_policy&nbsp;=&nbsp;'auto')</div></div></div>\n",
       "<script>\n",
       "(function() {\n",
       "  let expanded = false;\n",
       "  const ellipsis = document.getElementById(\"2063\");\n",
       "  ellipsis.addEventListener(\"click\", function() {\n",
       "    const rows = document.getElementsByClassName(\"2062\");\n",
       "    for (let i = 0; i < rows.length; i++) {\n",
       "      const el = rows[i];\n",
       "      el.style.display = expanded ? \"none\" : \"table-row\";\n",
       "    }\n",
       "    ellipsis.innerHTML = expanded ? \"&hellip;)\" : \"&lsaquo;&lsaquo;&lsaquo;\";\n",
       "    expanded = !expanded;\n",
       "  });\n",
       "})();\n",
       "</script>\n"
      ],
      "text/plain": [
       "Row(id='1449', ...)"
      ]
     },
     "execution_count": 6,
     "metadata": {},
     "output_type": "execute_result"
    }
   ],
   "source": [
    "bt.plot()"
   ]
  },
  {
   "cell_type": "markdown",
   "metadata": {},
   "source": [
    "## Optimization\n",
    "\n",
    "We hard-coded the two lag parameters (`n1` and `n2`) into our strategy above. However, the strategy may work better with 15–30 or some other cross-over. **We declared the parameters as optimizable by making them [class variables](https://docs.python.org/3/tutorial/classes.html#class-and-instance-variables)**.\n",
    "\n",
    "We optimize the two parameters by calling\n",
    "[`Backtest.optimize()`](https://kernc.github.io/backtesting.py/doc/backtesting/backtesting.html#backtesting.backtesting.Backtest.optimize)\n",
    "method with each parameter a keyword argument pointing to its pool of possible values to test. Parameter `n1` is tested for values in range between 5 and 30 and parameter `n2` for values between 10 and 70, respectively. Some combinations of values of the two parameters are invalid, i.e. `n1` should not be _larger than_ or equal to `n2`. We limit admissible parameter combinations with an _ad hoc_ constraint function, which takes in the parameters and returns `True` (i.e. admissible) whenever `n1` is less than `n2`. Additionally, we search for such parameter combination that maximizes return over the observed period. We could instead choose to optimize any other key from the returned `stats` series."
   ]
  },
  {
   "cell_type": "code",
   "execution_count": 7,
   "metadata": {},
   "outputs": [
    {
     "name": "stderr",
     "output_type": "stream",
     "text": [
      "/Users/tiny/Apps/anaconda3/envs/backtesting/lib/python3.8/site-packages/backtesting/backtesting.py:1375: UserWarning: For multiprocessing support in `Backtest.optimize()` set multiprocessing start method to 'fork'.\n",
      "  warnings.warn(\"For multiprocessing support in `Backtest.optimize()` \"\n"
     ]
    },
    {
     "name": "stdout",
     "output_type": "stream",
     "text": [
      "CPU times: user 1.96 s, sys: 13.2 ms, total: 1.97 s\n",
      "Wall time: 1.98 s\n"
     ]
    },
    {
     "data": {
      "text/plain": [
       "Start                     2004-08-19 00:00:00\n",
       "End                       2013-03-01 00:00:00\n",
       "Duration                   3116 days 00:00:00\n",
       "Exposure Time [%]                   99.068901\n",
       "Equity Final [$]                 103949.42612\n",
       "Equity Peak [$]                  108327.71798\n",
       "Return [%]                         939.494261\n",
       "Buy & Hold Return [%]              703.458242\n",
       "Return (Ann.) [%]                   31.610936\n",
       "Volatility (Ann.) [%]               44.739816\n",
       "Sharpe Ratio                          0.70655\n",
       "Sortino Ratio                        1.490961\n",
       "Calmar Ratio                         0.718505\n",
       "Max. Drawdown [%]                  -43.995445\n",
       "Avg. Drawdown [%]                   -6.138853\n",
       "Max. Drawdown Duration      690 days 00:00:00\n",
       "Avg. Drawdown Duration       43 days 00:00:00\n",
       "# Trades                                  153\n",
       "Win Rate [%]                        51.633987\n",
       "Best Trade [%]                      61.562908\n",
       "Worst Trade [%]                    -19.778312\n",
       "Avg. Trade [%]                       1.550283\n",
       "Max. Trade Duration          83 days 00:00:00\n",
       "Avg. Trade Duration          21 days 00:00:00\n",
       "Profit Factor                        1.984581\n",
       "Expectancy [%]                        1.97988\n",
       "SQN                                  1.604158\n",
       "_strategy                 SmaCross(n1=10,n...\n",
       "_equity_curve                             ...\n",
       "_trades                        Size  Entry...\n",
       "dtype: object"
      ]
     },
     "execution_count": 7,
     "metadata": {},
     "output_type": "execute_result"
    }
   ],
   "source": [
    "%%time\n",
    "\n",
    "stats = bt.optimize(n1=range(5, 30, 5),\n",
    "                    n2=range(10, 70, 5),\n",
    "                    maximize='Equity Final [$]',\n",
    "                    constraint=lambda param: param.n1 < param.n2)\n",
    "stats"
   ]
  },
  {
   "cell_type": "markdown",
   "metadata": {},
   "source": [
    "We can look into `stats['_strategy']` to access the Strategy _instance_ and its optimal parameter values (10 and 15)."
   ]
  },
  {
   "cell_type": "code",
   "execution_count": 8,
   "metadata": {},
   "outputs": [
    {
     "data": {
      "text/plain": [
       "<Strategy SmaCross(n1=10,n2=15)>"
      ]
     },
     "execution_count": 8,
     "metadata": {},
     "output_type": "execute_result"
    }
   ],
   "source": [
    "stats._strategy"
   ]
  },
  {
   "cell_type": "code",
   "execution_count": 11,
   "metadata": {
    "scrolled": false
   },
   "outputs": [
    {
     "data": {
      "text/html": [
       "<div style=\"display: table;\"><div style=\"display: table-row;\"><div style=\"display: table-cell;\"><b title=\"bokeh.models.layouts.Row\">Row</b>(</div><div style=\"display: table-cell;\">id&nbsp;=&nbsp;'3876', <span id=\"4295\" style=\"cursor: pointer;\">&hellip;)</span></div></div><div class=\"4294\" style=\"display: none;\"><div style=\"display: table-cell;\"></div><div style=\"display: table-cell;\">align&nbsp;=&nbsp;'start',</div></div><div class=\"4294\" style=\"display: none;\"><div style=\"display: table-cell;\"></div><div style=\"display: table-cell;\">aspect_ratio&nbsp;=&nbsp;None,</div></div><div class=\"4294\" style=\"display: none;\"><div style=\"display: table-cell;\"></div><div style=\"display: table-cell;\">background&nbsp;=&nbsp;None,</div></div><div class=\"4294\" style=\"display: none;\"><div style=\"display: table-cell;\"></div><div style=\"display: table-cell;\">children&nbsp;=&nbsp;[GridBox(id='3873', ...), ToolbarBox(id='3875', ...)],</div></div><div class=\"4294\" style=\"display: none;\"><div style=\"display: table-cell;\"></div><div style=\"display: table-cell;\">cols&nbsp;=&nbsp;'auto',</div></div><div class=\"4294\" style=\"display: none;\"><div style=\"display: table-cell;\"></div><div style=\"display: table-cell;\">css_classes&nbsp;=&nbsp;[],</div></div><div class=\"4294\" style=\"display: none;\"><div style=\"display: table-cell;\"></div><div style=\"display: table-cell;\">disabled&nbsp;=&nbsp;False,</div></div><div class=\"4294\" style=\"display: none;\"><div style=\"display: table-cell;\"></div><div style=\"display: table-cell;\">height&nbsp;=&nbsp;None,</div></div><div class=\"4294\" style=\"display: none;\"><div style=\"display: table-cell;\"></div><div style=\"display: table-cell;\">height_policy&nbsp;=&nbsp;'auto',</div></div><div class=\"4294\" style=\"display: none;\"><div style=\"display: table-cell;\"></div><div style=\"display: table-cell;\">js_event_callbacks&nbsp;=&nbsp;{},</div></div><div class=\"4294\" style=\"display: none;\"><div style=\"display: table-cell;\"></div><div style=\"display: table-cell;\">js_property_callbacks&nbsp;=&nbsp;{},</div></div><div class=\"4294\" style=\"display: none;\"><div style=\"display: table-cell;\"></div><div style=\"display: table-cell;\">margin&nbsp;=&nbsp;(0, 0, 0, 0),</div></div><div class=\"4294\" style=\"display: none;\"><div style=\"display: table-cell;\"></div><div style=\"display: table-cell;\">max_height&nbsp;=&nbsp;None,</div></div><div class=\"4294\" style=\"display: none;\"><div style=\"display: table-cell;\"></div><div style=\"display: table-cell;\">max_width&nbsp;=&nbsp;None,</div></div><div class=\"4294\" style=\"display: none;\"><div style=\"display: table-cell;\"></div><div style=\"display: table-cell;\">min_height&nbsp;=&nbsp;None,</div></div><div class=\"4294\" style=\"display: none;\"><div style=\"display: table-cell;\"></div><div style=\"display: table-cell;\">min_width&nbsp;=&nbsp;None,</div></div><div class=\"4294\" style=\"display: none;\"><div style=\"display: table-cell;\"></div><div style=\"display: table-cell;\">name&nbsp;=&nbsp;None,</div></div><div class=\"4294\" style=\"display: none;\"><div style=\"display: table-cell;\"></div><div style=\"display: table-cell;\">sizing_mode&nbsp;=&nbsp;'stretch_width',</div></div><div class=\"4294\" style=\"display: none;\"><div style=\"display: table-cell;\"></div><div style=\"display: table-cell;\">spacing&nbsp;=&nbsp;0,</div></div><div class=\"4294\" style=\"display: none;\"><div style=\"display: table-cell;\"></div><div style=\"display: table-cell;\">subscribed_events&nbsp;=&nbsp;[],</div></div><div class=\"4294\" style=\"display: none;\"><div style=\"display: table-cell;\"></div><div style=\"display: table-cell;\">syncable&nbsp;=&nbsp;True,</div></div><div class=\"4294\" style=\"display: none;\"><div style=\"display: table-cell;\"></div><div style=\"display: table-cell;\">tags&nbsp;=&nbsp;[],</div></div><div class=\"4294\" style=\"display: none;\"><div style=\"display: table-cell;\"></div><div style=\"display: table-cell;\">visible&nbsp;=&nbsp;True,</div></div><div class=\"4294\" style=\"display: none;\"><div style=\"display: table-cell;\"></div><div style=\"display: table-cell;\">width&nbsp;=&nbsp;None,</div></div><div class=\"4294\" style=\"display: none;\"><div style=\"display: table-cell;\"></div><div style=\"display: table-cell;\">width_policy&nbsp;=&nbsp;'auto')</div></div></div>\n",
       "<script>\n",
       "(function() {\n",
       "  let expanded = false;\n",
       "  const ellipsis = document.getElementById(\"4295\");\n",
       "  ellipsis.addEventListener(\"click\", function() {\n",
       "    const rows = document.getElementsByClassName(\"4294\");\n",
       "    for (let i = 0; i < rows.length; i++) {\n",
       "      const el = rows[i];\n",
       "      el.style.display = expanded ? \"none\" : \"table-row\";\n",
       "    }\n",
       "    ellipsis.innerHTML = expanded ? \"&hellip;)\" : \"&lsaquo;&lsaquo;&lsaquo;\";\n",
       "    expanded = !expanded;\n",
       "  });\n",
       "})();\n",
       "</script>\n"
      ],
      "text/plain": [
       "Row(id='3876', ...)"
      ]
     },
     "execution_count": 11,
     "metadata": {},
     "output_type": "execute_result"
    }
   ],
   "source": [
    "bt.plot(plot_volume=False, plot_pl=False)"
   ]
  },
  {
   "cell_type": "markdown",
   "metadata": {},
   "source": [
    "Strategy optimization managed to up its initial performance _on in-sample data_ by almost 50% and even beat simple\n",
    "[buy & hold](https://en.wikipedia.org/wiki/Buy_and_hold).\n",
    "In real life optimization, however, do **take steps to avoid\n",
    "[overfitting](https://en.wikipedia.org/wiki/Overfitting)**."
   ]
  },
  {
   "cell_type": "markdown",
   "metadata": {},
   "source": [
    "## Trade data\n",
    "\n",
    "In addition to backtest statistics returned by\n",
    "[`Backtest.run()`](https://kernc.github.io/backtesting.py/doc/backtesting/backtesting.html#backtesting.backtesting.Backtest.run)\n",
    "shown above, you can look into _individual trade returns_ and the changing _equity curve_ and _drawdown_ by inspecting the last few, internal keys in the result series."
   ]
  },
  {
   "cell_type": "code",
   "execution_count": 12,
   "metadata": {},
   "outputs": [
    {
     "data": {
      "text/plain": [
       "Expectancy [%]                                              1.97988\n",
       "SQN                                                        1.604158\n",
       "_strategy                                     SmaCross(n1=10,n2=15)\n",
       "_equity_curve                       Equity  DrawdownPct Drawdown...\n",
       "_trades                Size  EntryBar  ExitBar  EntryPrice  Exit...\n",
       "dtype: object"
      ]
     },
     "execution_count": 12,
     "metadata": {},
     "output_type": "execute_result"
    }
   ],
   "source": [
    "stats.tail()"
   ]
  },
  {
   "cell_type": "markdown",
   "metadata": {},
   "source": [
    "The columns should be self-explanatory."
   ]
  },
  {
   "cell_type": "code",
   "execution_count": 13,
   "metadata": {},
   "outputs": [
    {
     "data": {
      "text/html": [
       "<div>\n",
       "<style scoped>\n",
       "    .dataframe tbody tr th:only-of-type {\n",
       "        vertical-align: middle;\n",
       "    }\n",
       "\n",
       "    .dataframe tbody tr th {\n",
       "        vertical-align: top;\n",
       "    }\n",
       "\n",
       "    .dataframe thead th {\n",
       "        text-align: right;\n",
       "    }\n",
       "</style>\n",
       "<table border=\"1\" class=\"dataframe\">\n",
       "  <thead>\n",
       "    <tr style=\"text-align: right;\">\n",
       "      <th></th>\n",
       "      <th>Equity</th>\n",
       "      <th>DrawdownPct</th>\n",
       "      <th>DrawdownDuration</th>\n",
       "    </tr>\n",
       "  </thead>\n",
       "  <tbody>\n",
       "    <tr>\n",
       "      <th>2004-08-19</th>\n",
       "      <td>10000.00000</td>\n",
       "      <td>0.000000</td>\n",
       "      <td>NaT</td>\n",
       "    </tr>\n",
       "    <tr>\n",
       "      <th>2004-08-20</th>\n",
       "      <td>10000.00000</td>\n",
       "      <td>0.000000</td>\n",
       "      <td>NaT</td>\n",
       "    </tr>\n",
       "    <tr>\n",
       "      <th>2004-08-23</th>\n",
       "      <td>10000.00000</td>\n",
       "      <td>0.000000</td>\n",
       "      <td>NaT</td>\n",
       "    </tr>\n",
       "    <tr>\n",
       "      <th>2004-08-24</th>\n",
       "      <td>10000.00000</td>\n",
       "      <td>0.000000</td>\n",
       "      <td>NaT</td>\n",
       "    </tr>\n",
       "    <tr>\n",
       "      <th>2004-08-25</th>\n",
       "      <td>10000.00000</td>\n",
       "      <td>0.000000</td>\n",
       "      <td>NaT</td>\n",
       "    </tr>\n",
       "    <tr>\n",
       "      <th>...</th>\n",
       "      <td>...</td>\n",
       "      <td>...</td>\n",
       "      <td>...</td>\n",
       "    </tr>\n",
       "    <tr>\n",
       "      <th>2013-02-25</th>\n",
       "      <td>103035.52612</td>\n",
       "      <td>0.048854</td>\n",
       "      <td>NaT</td>\n",
       "    </tr>\n",
       "    <tr>\n",
       "      <th>2013-02-26</th>\n",
       "      <td>102952.32612</td>\n",
       "      <td>0.049622</td>\n",
       "      <td>NaT</td>\n",
       "    </tr>\n",
       "    <tr>\n",
       "      <th>2013-02-27</th>\n",
       "      <td>104206.82612</td>\n",
       "      <td>0.038041</td>\n",
       "      <td>NaT</td>\n",
       "    </tr>\n",
       "    <tr>\n",
       "      <th>2013-02-28</th>\n",
       "      <td>104391.42612</td>\n",
       "      <td>0.036337</td>\n",
       "      <td>NaT</td>\n",
       "    </tr>\n",
       "    <tr>\n",
       "      <th>2013-03-01</th>\n",
       "      <td>103949.42612</td>\n",
       "      <td>0.040417</td>\n",
       "      <td>533 days</td>\n",
       "    </tr>\n",
       "  </tbody>\n",
       "</table>\n",
       "<p>2148 rows × 3 columns</p>\n",
       "</div>"
      ],
      "text/plain": [
       "                  Equity  DrawdownPct DrawdownDuration\n",
       "2004-08-19   10000.00000     0.000000              NaT\n",
       "2004-08-20   10000.00000     0.000000              NaT\n",
       "2004-08-23   10000.00000     0.000000              NaT\n",
       "2004-08-24   10000.00000     0.000000              NaT\n",
       "2004-08-25   10000.00000     0.000000              NaT\n",
       "...                  ...          ...              ...\n",
       "2013-02-25  103035.52612     0.048854              NaT\n",
       "2013-02-26  102952.32612     0.049622              NaT\n",
       "2013-02-27  104206.82612     0.038041              NaT\n",
       "2013-02-28  104391.42612     0.036337              NaT\n",
       "2013-03-01  103949.42612     0.040417         533 days\n",
       "\n",
       "[2148 rows x 3 columns]"
      ]
     },
     "execution_count": 13,
     "metadata": {},
     "output_type": "execute_result"
    }
   ],
   "source": [
    "stats['_equity_curve']  # Contains equity/drawdown curves. DrawdownDuration is only defined at ends of DD periods."
   ]
  },
  {
   "cell_type": "code",
   "execution_count": 14,
   "metadata": {},
   "outputs": [
    {
     "data": {
      "text/html": [
       "<div>\n",
       "<style scoped>\n",
       "    .dataframe tbody tr th:only-of-type {\n",
       "        vertical-align: middle;\n",
       "    }\n",
       "\n",
       "    .dataframe tbody tr th {\n",
       "        vertical-align: top;\n",
       "    }\n",
       "\n",
       "    .dataframe thead th {\n",
       "        text-align: right;\n",
       "    }\n",
       "</style>\n",
       "<table border=\"1\" class=\"dataframe\">\n",
       "  <thead>\n",
       "    <tr style=\"text-align: right;\">\n",
       "      <th></th>\n",
       "      <th>Size</th>\n",
       "      <th>EntryBar</th>\n",
       "      <th>ExitBar</th>\n",
       "      <th>EntryPrice</th>\n",
       "      <th>ExitPrice</th>\n",
       "      <th>PnL</th>\n",
       "      <th>ReturnPct</th>\n",
       "      <th>EntryTime</th>\n",
       "      <th>ExitTime</th>\n",
       "      <th>Duration</th>\n",
       "    </tr>\n",
       "  </thead>\n",
       "  <tbody>\n",
       "    <tr>\n",
       "      <th>0</th>\n",
       "      <td>87</td>\n",
       "      <td>20</td>\n",
       "      <td>60</td>\n",
       "      <td>114.64884</td>\n",
       "      <td>185.23</td>\n",
       "      <td>6140.56092</td>\n",
       "      <td>0.615629</td>\n",
       "      <td>2004-09-17</td>\n",
       "      <td>2004-11-12</td>\n",
       "      <td>56 days</td>\n",
       "    </tr>\n",
       "    <tr>\n",
       "      <th>1</th>\n",
       "      <td>-87</td>\n",
       "      <td>60</td>\n",
       "      <td>69</td>\n",
       "      <td>184.85954</td>\n",
       "      <td>175.80</td>\n",
       "      <td>788.17998</td>\n",
       "      <td>0.049008</td>\n",
       "      <td>2004-11-12</td>\n",
       "      <td>2004-11-26</td>\n",
       "      <td>14 days</td>\n",
       "    </tr>\n",
       "    <tr>\n",
       "      <th>2</th>\n",
       "      <td>96</td>\n",
       "      <td>69</td>\n",
       "      <td>71</td>\n",
       "      <td>176.15160</td>\n",
       "      <td>180.71</td>\n",
       "      <td>437.60640</td>\n",
       "      <td>0.025878</td>\n",
       "      <td>2004-11-26</td>\n",
       "      <td>2004-11-30</td>\n",
       "      <td>4 days</td>\n",
       "    </tr>\n",
       "    <tr>\n",
       "      <th>3</th>\n",
       "      <td>-96</td>\n",
       "      <td>71</td>\n",
       "      <td>75</td>\n",
       "      <td>180.34858</td>\n",
       "      <td>179.13</td>\n",
       "      <td>116.98368</td>\n",
       "      <td>0.006757</td>\n",
       "      <td>2004-11-30</td>\n",
       "      <td>2004-12-06</td>\n",
       "      <td>6 days</td>\n",
       "    </tr>\n",
       "    <tr>\n",
       "      <th>4</th>\n",
       "      <td>97</td>\n",
       "      <td>75</td>\n",
       "      <td>82</td>\n",
       "      <td>179.48826</td>\n",
       "      <td>177.99</td>\n",
       "      <td>-145.33122</td>\n",
       "      <td>-0.008347</td>\n",
       "      <td>2004-12-06</td>\n",
       "      <td>2004-12-15</td>\n",
       "      <td>9 days</td>\n",
       "    </tr>\n",
       "    <tr>\n",
       "      <th>...</th>\n",
       "      <td>...</td>\n",
       "      <td>...</td>\n",
       "      <td>...</td>\n",
       "      <td>...</td>\n",
       "      <td>...</td>\n",
       "      <td>...</td>\n",
       "      <td>...</td>\n",
       "      <td>...</td>\n",
       "      <td>...</td>\n",
       "      <td>...</td>\n",
       "    </tr>\n",
       "    <tr>\n",
       "      <th>148</th>\n",
       "      <td>139</td>\n",
       "      <td>2085</td>\n",
       "      <td>2111</td>\n",
       "      <td>689.15556</td>\n",
       "      <td>735.54</td>\n",
       "      <td>6447.43716</td>\n",
       "      <td>0.067306</td>\n",
       "      <td>2012-11-29</td>\n",
       "      <td>2013-01-08</td>\n",
       "      <td>40 days</td>\n",
       "    </tr>\n",
       "    <tr>\n",
       "      <th>149</th>\n",
       "      <td>-139</td>\n",
       "      <td>2111</td>\n",
       "      <td>2113</td>\n",
       "      <td>734.06892</td>\n",
       "      <td>742.83</td>\n",
       "      <td>-1217.79012</td>\n",
       "      <td>-0.011935</td>\n",
       "      <td>2013-01-08</td>\n",
       "      <td>2013-01-10</td>\n",
       "      <td>2 days</td>\n",
       "    </tr>\n",
       "    <tr>\n",
       "      <th>150</th>\n",
       "      <td>136</td>\n",
       "      <td>2113</td>\n",
       "      <td>2121</td>\n",
       "      <td>744.31566</td>\n",
       "      <td>735.99</td>\n",
       "      <td>-1132.28976</td>\n",
       "      <td>-0.011186</td>\n",
       "      <td>2013-01-10</td>\n",
       "      <td>2013-01-23</td>\n",
       "      <td>13 days</td>\n",
       "    </tr>\n",
       "    <tr>\n",
       "      <th>151</th>\n",
       "      <td>-136</td>\n",
       "      <td>2121</td>\n",
       "      <td>2127</td>\n",
       "      <td>734.51802</td>\n",
       "      <td>750.51</td>\n",
       "      <td>-2174.90928</td>\n",
       "      <td>-0.021772</td>\n",
       "      <td>2013-01-23</td>\n",
       "      <td>2013-01-31</td>\n",
       "      <td>8 days</td>\n",
       "    </tr>\n",
       "    <tr>\n",
       "      <th>152</th>\n",
       "      <td>130</td>\n",
       "      <td>2127</td>\n",
       "      <td>2147</td>\n",
       "      <td>752.01102</td>\n",
       "      <td>797.80</td>\n",
       "      <td>5952.56740</td>\n",
       "      <td>0.060889</td>\n",
       "      <td>2013-01-31</td>\n",
       "      <td>2013-03-01</td>\n",
       "      <td>29 days</td>\n",
       "    </tr>\n",
       "  </tbody>\n",
       "</table>\n",
       "<p>153 rows × 10 columns</p>\n",
       "</div>"
      ],
      "text/plain": [
       "     Size  EntryBar  ExitBar  EntryPrice  ExitPrice         PnL  ReturnPct  \\\n",
       "0      87        20       60   114.64884     185.23  6140.56092   0.615629   \n",
       "1     -87        60       69   184.85954     175.80   788.17998   0.049008   \n",
       "2      96        69       71   176.15160     180.71   437.60640   0.025878   \n",
       "3     -96        71       75   180.34858     179.13   116.98368   0.006757   \n",
       "4      97        75       82   179.48826     177.99  -145.33122  -0.008347   \n",
       "..    ...       ...      ...         ...        ...         ...        ...   \n",
       "148   139      2085     2111   689.15556     735.54  6447.43716   0.067306   \n",
       "149  -139      2111     2113   734.06892     742.83 -1217.79012  -0.011935   \n",
       "150   136      2113     2121   744.31566     735.99 -1132.28976  -0.011186   \n",
       "151  -136      2121     2127   734.51802     750.51 -2174.90928  -0.021772   \n",
       "152   130      2127     2147   752.01102     797.80  5952.56740   0.060889   \n",
       "\n",
       "     EntryTime   ExitTime Duration  \n",
       "0   2004-09-17 2004-11-12  56 days  \n",
       "1   2004-11-12 2004-11-26  14 days  \n",
       "2   2004-11-26 2004-11-30   4 days  \n",
       "3   2004-11-30 2004-12-06   6 days  \n",
       "4   2004-12-06 2004-12-15   9 days  \n",
       "..         ...        ...      ...  \n",
       "148 2012-11-29 2013-01-08  40 days  \n",
       "149 2013-01-08 2013-01-10   2 days  \n",
       "150 2013-01-10 2013-01-23  13 days  \n",
       "151 2013-01-23 2013-01-31   8 days  \n",
       "152 2013-01-31 2013-03-01  29 days  \n",
       "\n",
       "[153 rows x 10 columns]"
      ]
     },
     "execution_count": 14,
     "metadata": {},
     "output_type": "execute_result"
    }
   ],
   "source": [
    "stats['_trades']  # Contains individual trade data"
   ]
  },
  {
   "cell_type": "markdown",
   "metadata": {},
   "source": [
    "Learn more by exploring further\n",
    "[examples](https://kernc.github.io/backtesting.py/doc/backtesting/index.html#tutorials)\n",
    "or find more framework options in the\n",
    "[full API reference](https://kernc.github.io/backtesting.py/doc/backtesting/index.html#header-submodules)."
   ]
  },
  {
   "cell_type": "markdown",
   "metadata": {},
   "source": []
  }
 ],
 "metadata": {
  "jupytext": {
   "text_representation": {
    "format_version": "1.1"
   }
  },
  "kernelspec": {
   "display_name": "Python 3",
   "language": "python",
   "name": "python3"
  },
  "language_info": {
   "codemirror_mode": {
    "name": "ipython",
    "version": 3
   },
   "file_extension": ".py",
   "mimetype": "text/x-python",
   "name": "python",
   "nbconvert_exporter": "python",
   "pygments_lexer": "ipython3",
   "version": "3.8.19"
  }
 },
 "nbformat": 4,
 "nbformat_minor": 2
}
